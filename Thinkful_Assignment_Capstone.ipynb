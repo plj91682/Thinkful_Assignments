{
 "cells": [
  {
   "cell_type": "code",
   "execution_count": 37,
   "metadata": {
    "collapsed": true
   },
   "outputs": [],
   "source": [
    "import numpy as np\n",
    "import pandas as pd\n",
    "import matplotlib.pyplot as plt\n",
    "import scipy.special as sps\n",
    "import datetime\n",
    "%matplotlib inline\n",
    "\n",
    "# global stock dataframe\n",
    "stock_df = ''"
   ]
  },
  {
   "cell_type": "code",
   "execution_count": 2,
   "metadata": {},
   "outputs": [
    {
     "data": {
      "text/plain": [
       "array([  30.64285657,   30.79857057,   30.74714286, ...,  118.019997  ,\n",
       "        117.110001  ,  117.199997  ])"
      ]
     },
     "execution_count": 2,
     "metadata": {},
     "output_type": "execute_result"
    }
   ],
   "source": [
    "stocks_df = pd.read_csv('nyse/prices-split-adjusted.csv')\n",
    "fundamentals = pd.read_csv('nyse/fundamentals.csv')\n",
    "apple_df = stocks_df[stocks_df['symbol'] == 'AAPL']\n",
    "apple_high_df1_np = apple_df['high'].values\n",
    "#df1['high'].sort_values(by=['date']).values\n",
    "apple_df.sort_values(by=['date'])\n",
    "apple_high_df1_np"
   ]
  },
  {
   "cell_type": "code",
   "execution_count": 3,
   "metadata": {},
   "outputs": [
    {
     "name": "stdout",
     "output_type": "stream",
     "text": [
      "mean:  80.1404466937 \n",
      "sd:  28.5529213874\n"
     ]
    }
   ],
   "source": [
    "apple_mean = np.mean(apple_high_df1_np)\n",
    "apple_sd = np.std(apple_high_df1_np)\n",
    "print('mean: ', apple_mean, '\\nsd: ', apple_sd)"
   ]
  },
  {
   "cell_type": "code",
   "execution_count": 4,
   "metadata": {},
   "outputs": [
    {
     "data": {
      "image/png": "[encoded data removed]",
      "text/plain": [
       "<matplotlib.figure.Figure at 0xb6dc4f0>"
      ]
     },
     "metadata": {},
     "output_type": "display_data"
    }
   ],
   "source": [
    "plt.hist(apple_high_df1_np, 100)\n",
    "plt.axvline(x=apple_mean,linestyle='dashed',color='black')\n",
    "plt.axvline(x=apple_mean+apple_sd,linestyle='dashed', color='red')\n",
    "plt.axvline(x=apple_mean-apple_sd,linestyle='dashed', color='red')\n",
    "plt.show()"
   ]
  },
  {
   "cell_type": "code",
   "execution_count": 5,
   "metadata": {},
   "outputs": [
    {
     "data": {
      "text/plain": [
       "count    1762.000000\n",
       "mean       80.140447\n",
       "std        28.561027\n",
       "min        28.000000\n",
       "25%        55.909286\n",
       "50%        79.344284\n",
       "75%       104.424997\n",
       "max       134.539993\n",
       "Name: high, dtype: float64"
      ]
     },
     "execution_count": 5,
     "metadata": {},
     "output_type": "execute_result"
    }
   ],
   "source": [
    "apple_df['high'].describe()"
   ]
  },
  {
   "cell_type": "code",
   "execution_count": 6,
   "metadata": {
    "collapsed": true
   },
   "outputs": [],
   "source": [
    "def DescribeStock( symbol, column ):\n",
    "    global stock_df\n",
    "    print('symbol: ',symbol, ' column: ', column)\n",
    "    stock_df = stocks_df[stocks_df['symbol'] == symbol]\n",
    "    stock_np = stock_df[column].values\n",
    "    print(stock_df[column].describe())\n",
    "    return"
   ]
  },
  {
   "cell_type": "code",
   "execution_count": 7,
   "metadata": {
    "collapsed": true
   },
   "outputs": [],
   "source": [
    "def Histogram( stock, column, bins ):\n",
    "    stock_df = stocks_df[stocks_df['symbol'] == stock]\n",
    "    #print(stock_df)\n",
    "    stk_mean = np.mean(stock_df[column].values)\n",
    "    stk_sd = np.std(stock_df[column].values)\n",
    "    plt.hist(stock_df[column].values, bins)\n",
    "    plt.axvline(x=apple_mean,linestyle='dashed',color='black')\n",
    "    plt.axvline(x=apple_mean+apple_sd,linestyle='dashed', color='red')\n",
    "    plt.axvline(x=apple_mean-apple_sd,linestyle='dashed', color='red')\n",
    "    plt.show()\n",
    "    return"
   ]
  },
  {
   "cell_type": "code",
   "execution_count": 139,
   "metadata": {},
   "outputs": [],
   "source": [
    "def Calculate_T_Value(symbol, feature_a, feature_b, year):\n",
    "    #Year filter\n",
    "    stocks_df['date'] = pd.to_datetime(stocks_df['date'])\n",
    "    datetime1 = datetime.date(year,1,1) \n",
    "    ByYear = stocks_df['date'] >= datetime1\n",
    "    \n",
    "    #Symbol Filter\n",
    "    BySymbol = stocks_df['symbol'] == symbol\n",
    "\n",
    "    stock_df = stocks_df[BySymbol & ByYear]\n",
    "    stock_feature_a_np = stock_df[feature_a].values\n",
    "    stock_feature_b_np = stock_df[feature_b].values\n",
    "    \n",
    "    # t-value use scipy\n",
    "    from scipy.stats import ttest_ind\n",
    "    print(ttest_ind(stock_feature_b_np, stock_feature_a_np, equal_var=False))\n",
    "    return"
   ]
  },
  {
   "cell_type": "code",
   "execution_count": 140,
   "metadata": {},
   "outputs": [
    {
     "name": "stdout",
     "output_type": "stream",
     "text": [
      "Ttest_indResult(statistic=35.688898820158748, pvalue=2.5697502700918627e-100)\n"
     ]
    }
   ],
   "source": [
    "stocks_df.head(1)\n",
    "Calculate_T_Value('AAPL', 'high', 'volume', 2016)"
   ]
  },
  {
   "cell_type": "code",
   "execution_count": 100,
   "metadata": {},
   "outputs": [],
   "source": [
    "def DescribeStockByYear( symbol, column, year ):\n",
    "    global stock_df\n",
    "    stocks_df['date'] = pd.to_datetime(stocks_df['date'])\n",
    "    datetime1 = datetime.date(year,1,1) \n",
    "    ByYear = stocks_df['date'] >= datetime1\n",
    "    BySymbol = stocks_df['symbol'] == symbol\n",
    "    print('symbol: ',symbol, ' summary-year: ', year)\n",
    "    stock_df = stocks_df[BySymbol & ByYear]\n",
    "    stock_np = stock_df[column].values\n",
    "    #print(stock_df[column].describe().mean)\n",
    "    summary = stock_df[column].describe()\n",
    "    summary_list = list(summary)\n",
    "    print('\\tmean: ', summary_list[1], '\\n\\tstd: ', summary_list[2])\n",
    "    #print(summary)\n",
    "    return summary_list"
   ]
  },
  {
   "cell_type": "code",
   "execution_count": 143,
   "metadata": {},
   "outputs": [
    {
     "name": "stdout",
     "output_type": "stream",
     "text": [
      "symbol:  AAPL  summary-year:  2016\n",
      "\tmean:  105.427182544 \n",
      "\tstd:  7.55437616907\n",
      "symbol:  AAPL  summary-year:  2015\n",
      "\tmean:  113.3358532 \n",
      "\tstd:  10.9069515877\n",
      "symbol:  AAPL  summary-year:  2014\n",
      "\tmean:  106.56145693 \n",
      "\tstd:  15.2403230075\n",
      "symbol:  AAPL  summary-year:  2013\n",
      "\tmean:  96.9796258129 \n",
      "\tstd:  21.4463933291\n"
     ]
    }
   ],
   "source": [
    "symbol = 'AAPL'\n",
    "column = 'high'\n",
    "summary_2016 = DescribeStockByYear(symbol, column, 2016)\n",
    "summary_2015 = DescribeStockByYear(symbol, column, 2015)\n",
    "summary_2014 = DescribeStockByYear(symbol, column, 2014)\n",
    "summary_2013 = DescribeStockByYear(symbol, column, 2013)\n",
    "summary_2013_2016 = [summary_2013[1],summary_2014[1],summary_2015[1],summary_2016[1]]"
   ]
  },
  {
   "cell_type": "code",
   "execution_count": 144,
   "metadata": {
    "scrolled": true
   },
   "outputs": [
    {
     "data": {
      "image/png": "[encoded data removed]",
      "text/plain": [
       "<matplotlib.figure.Figure at 0x2bef5d0>"
      ]
     },
     "metadata": {},
     "output_type": "display_data"
    }
   ],
   "source": [
    "plt.plot([2013,2014,2015,2016], [summary_2013[1],summary_2014[1],summary_2015[1],summary_2016[1]], 'ro')\n",
    "plt.axis([2013, 2017, (min(summary_2013_2016)-1),(max(summary_2013_2016)+1)])\n",
    "#plt.xticks(np.arange( 2013, 2016, 1.0))\n",
    "plt.show()"
   ]
  },
  {
   "cell_type": "code",
   "execution_count": 92,
   "metadata": {},
   "outputs": [
    {
     "name": "stdout",
     "output_type": "stream",
     "text": [
      "symbol:  AAPL  column:  high\n",
      "count    1762.000000\n",
      "mean       80.140447\n",
      "std        28.561027\n",
      "min        28.000000\n",
      "25%        55.909286\n",
      "50%        79.344284\n",
      "75%       104.424997\n",
      "max       134.539993\n",
      "Name: high, dtype: float64\n"
     ]
    }
   ],
   "source": [
    "symbol = 'AAPL'\n",
    "column = 'high'\n",
    "DescribeStock(symbol, column)"
   ]
  },
  {
   "cell_type": "code",
   "execution_count": 9,
   "metadata": {},
   "outputs": [
    {
     "data": {
      "image/png": "[encoded data removed]",
      "text/plain": [
       "<matplotlib.figure.Figure at 0xc1eb9f0>"
      ]
     },
     "metadata": {},
     "output_type": "display_data"
    }
   ],
   "source": [
    "Histogram(symbol, column, 10)"
   ]
  },
  {
   "cell_type": "code",
   "execution_count": 10,
   "metadata": {
    "scrolled": false
   },
   "outputs": [
    {
     "data": {
      "text/html": [
       "<div>\n",
       "<style>\n",
       "    .dataframe thead tr:only-child th {\n",
       "        text-align: right;\n",
       "    }\n",
       "\n",
       "    .dataframe thead th {\n",
       "        text-align: left;\n",
       "    }\n",
       "\n",
       "    .dataframe tbody tr th {\n",
       "        vertical-align: top;\n",
       "    }\n",
       "</style>\n",
       "<table border=\"1\" class=\"dataframe\">\n",
       "  <thead>\n",
       "    <tr style=\"text-align: right;\">\n",
       "      <th></th>\n",
       "      <th>date</th>\n",
       "      <th>symbol</th>\n",
       "      <th>open</th>\n",
       "      <th>close</th>\n",
       "      <th>low</th>\n",
       "      <th>high</th>\n",
       "      <th>volume</th>\n",
       "    </tr>\n",
       "  </thead>\n",
       "  <tbody>\n",
       "    <tr>\n",
       "      <th>254</th>\n",
       "      <td>2010-01-04</td>\n",
       "      <td>AAPL</td>\n",
       "      <td>30.490000</td>\n",
       "      <td>30.572857</td>\n",
       "      <td>30.340000</td>\n",
       "      <td>30.642857</td>\n",
       "      <td>123432400.0</td>\n",
       "    </tr>\n",
       "    <tr>\n",
       "      <th>721</th>\n",
       "      <td>2010-01-05</td>\n",
       "      <td>AAPL</td>\n",
       "      <td>30.657143</td>\n",
       "      <td>30.625713</td>\n",
       "      <td>30.464285</td>\n",
       "      <td>30.798571</td>\n",
       "      <td>150476200.0</td>\n",
       "    </tr>\n",
       "    <tr>\n",
       "      <th>1189</th>\n",
       "      <td>2010-01-06</td>\n",
       "      <td>AAPL</td>\n",
       "      <td>30.625713</td>\n",
       "      <td>30.138571</td>\n",
       "      <td>30.107143</td>\n",
       "      <td>30.747143</td>\n",
       "      <td>138040000.0</td>\n",
       "    </tr>\n",
       "    <tr>\n",
       "      <th>1657</th>\n",
       "      <td>2010-01-07</td>\n",
       "      <td>AAPL</td>\n",
       "      <td>30.250000</td>\n",
       "      <td>30.082857</td>\n",
       "      <td>29.864286</td>\n",
       "      <td>30.285715</td>\n",
       "      <td>119282800.0</td>\n",
       "    </tr>\n",
       "    <tr>\n",
       "      <th>2125</th>\n",
       "      <td>2010-01-08</td>\n",
       "      <td>AAPL</td>\n",
       "      <td>30.042856</td>\n",
       "      <td>30.282858</td>\n",
       "      <td>29.865715</td>\n",
       "      <td>30.285715</td>\n",
       "      <td>111902700.0</td>\n",
       "    </tr>\n",
       "  </tbody>\n",
       "</table>\n",
       "</div>"
      ],
      "text/plain": [
       "            date symbol       open      close        low       high  \\\n",
       "254   2010-01-04   AAPL  30.490000  30.572857  30.340000  30.642857   \n",
       "721   2010-01-05   AAPL  30.657143  30.625713  30.464285  30.798571   \n",
       "1189  2010-01-06   AAPL  30.625713  30.138571  30.107143  30.747143   \n",
       "1657  2010-01-07   AAPL  30.250000  30.082857  29.864286  30.285715   \n",
       "2125  2010-01-08   AAPL  30.042856  30.282858  29.865715  30.285715   \n",
       "\n",
       "           volume  \n",
       "254   123432400.0  \n",
       "721   150476200.0  \n",
       "1189  138040000.0  \n",
       "1657  119282800.0  \n",
       "2125  111902700.0  "
      ]
     },
     "execution_count": 10,
     "metadata": {},
     "output_type": "execute_result"
    }
   ],
   "source": [
    "stock_df.head(5)"
   ]
  },
  {
   "cell_type": "code",
   "execution_count": 11,
   "metadata": {},
   "outputs": [
    {
     "data": {
      "text/html": [
       "<div>\n",
       "<style>\n",
       "    .dataframe thead tr:only-child th {\n",
       "        text-align: right;\n",
       "    }\n",
       "\n",
       "    .dataframe thead th {\n",
       "        text-align: left;\n",
       "    }\n",
       "\n",
       "    .dataframe tbody tr th {\n",
       "        vertical-align: top;\n",
       "    }\n",
       "</style>\n",
       "<table border=\"1\" class=\"dataframe\">\n",
       "  <thead>\n",
       "    <tr style=\"text-align: right;\">\n",
       "      <th></th>\n",
       "      <th>Unnamed: 0</th>\n",
       "      <th>Ticker Symbol</th>\n",
       "      <th>Period Ending</th>\n",
       "      <th>Accounts Payable</th>\n",
       "      <th>Accounts Receivable</th>\n",
       "      <th>Add'l income/expense items</th>\n",
       "      <th>After Tax ROE</th>\n",
       "      <th>Capital Expenditures</th>\n",
       "      <th>Capital Surplus</th>\n",
       "      <th>Cash Ratio</th>\n",
       "      <th>...</th>\n",
       "      <th>Total Current Assets</th>\n",
       "      <th>Total Current Liabilities</th>\n",
       "      <th>Total Equity</th>\n",
       "      <th>Total Liabilities</th>\n",
       "      <th>Total Liabilities &amp; Equity</th>\n",
       "      <th>Total Revenue</th>\n",
       "      <th>Treasury Stock</th>\n",
       "      <th>For Year</th>\n",
       "      <th>Earnings Per Share</th>\n",
       "      <th>Estimated Shares Outstanding</th>\n",
       "    </tr>\n",
       "  </thead>\n",
       "  <tbody>\n",
       "    <tr>\n",
       "      <th>8</th>\n",
       "      <td>8</td>\n",
       "      <td>AAPL</td>\n",
       "      <td>2013-09-28</td>\n",
       "      <td>3.622300e+10</td>\n",
       "      <td>-1.949000e+09</td>\n",
       "      <td>1.156000e+09</td>\n",
       "      <td>30.0</td>\n",
       "      <td>-8.165000e+09</td>\n",
       "      <td>0.0</td>\n",
       "      <td>93.0</td>\n",
       "      <td>...</td>\n",
       "      <td>7.328600e+10</td>\n",
       "      <td>4.365800e+10</td>\n",
       "      <td>1.235490e+11</td>\n",
       "      <td>8.345100e+10</td>\n",
       "      <td>2.070000e+11</td>\n",
       "      <td>1.709100e+11</td>\n",
       "      <td>0.0</td>\n",
       "      <td>2013.0</td>\n",
       "      <td>40.03</td>\n",
       "      <td>9.252311e+08</td>\n",
       "    </tr>\n",
       "    <tr>\n",
       "      <th>9</th>\n",
       "      <td>9</td>\n",
       "      <td>AAPL</td>\n",
       "      <td>2014-09-27</td>\n",
       "      <td>4.864900e+10</td>\n",
       "      <td>-6.452000e+09</td>\n",
       "      <td>9.800000e+08</td>\n",
       "      <td>35.0</td>\n",
       "      <td>-9.571000e+09</td>\n",
       "      <td>0.0</td>\n",
       "      <td>40.0</td>\n",
       "      <td>...</td>\n",
       "      <td>6.853100e+10</td>\n",
       "      <td>6.344800e+10</td>\n",
       "      <td>1.115470e+11</td>\n",
       "      <td>1.202920e+11</td>\n",
       "      <td>2.318390e+11</td>\n",
       "      <td>1.827950e+11</td>\n",
       "      <td>0.0</td>\n",
       "      <td>2014.0</td>\n",
       "      <td>6.49</td>\n",
       "      <td>6.087827e+09</td>\n",
       "    </tr>\n",
       "    <tr>\n",
       "      <th>10</th>\n",
       "      <td>10</td>\n",
       "      <td>AAPL</td>\n",
       "      <td>2015-09-26</td>\n",
       "      <td>6.067100e+10</td>\n",
       "      <td>-3.124000e+09</td>\n",
       "      <td>1.285000e+09</td>\n",
       "      <td>45.0</td>\n",
       "      <td>-1.124700e+10</td>\n",
       "      <td>0.0</td>\n",
       "      <td>52.0</td>\n",
       "      <td>...</td>\n",
       "      <td>8.937800e+10</td>\n",
       "      <td>8.061000e+10</td>\n",
       "      <td>1.193550e+11</td>\n",
       "      <td>1.709900e+11</td>\n",
       "      <td>2.903450e+11</td>\n",
       "      <td>2.337150e+11</td>\n",
       "      <td>0.0</td>\n",
       "      <td>2015.0</td>\n",
       "      <td>9.28</td>\n",
       "      <td>5.753664e+09</td>\n",
       "    </tr>\n",
       "    <tr>\n",
       "      <th>11</th>\n",
       "      <td>11</td>\n",
       "      <td>AAPL</td>\n",
       "      <td>2016-09-24</td>\n",
       "      <td>5.932100e+10</td>\n",
       "      <td>1.044000e+09</td>\n",
       "      <td>1.348000e+09</td>\n",
       "      <td>36.0</td>\n",
       "      <td>-1.273400e+10</td>\n",
       "      <td>0.0</td>\n",
       "      <td>85.0</td>\n",
       "      <td>...</td>\n",
       "      <td>1.068690e+11</td>\n",
       "      <td>7.900600e+10</td>\n",
       "      <td>1.282490e+11</td>\n",
       "      <td>1.934370e+11</td>\n",
       "      <td>3.216860e+11</td>\n",
       "      <td>2.156390e+11</td>\n",
       "      <td>0.0</td>\n",
       "      <td>2016.0</td>\n",
       "      <td>8.35</td>\n",
       "      <td>5.471497e+09</td>\n",
       "    </tr>\n",
       "  </tbody>\n",
       "</table>\n",
       "<p>4 rows × 79 columns</p>\n",
       "</div>"
      ],
      "text/plain": [
       "    Unnamed: 0 Ticker Symbol Period Ending  Accounts Payable  \\\n",
       "8            8          AAPL    2013-09-28      3.622300e+10   \n",
       "9            9          AAPL    2014-09-27      4.864900e+10   \n",
       "10          10          AAPL    2015-09-26      6.067100e+10   \n",
       "11          11          AAPL    2016-09-24      5.932100e+10   \n",
       "\n",
       "    Accounts Receivable  Add'l income/expense items  After Tax ROE  \\\n",
       "8         -1.949000e+09                1.156000e+09           30.0   \n",
       "9         -6.452000e+09                9.800000e+08           35.0   \n",
       "10        -3.124000e+09                1.285000e+09           45.0   \n",
       "11         1.044000e+09                1.348000e+09           36.0   \n",
       "\n",
       "    Capital Expenditures  Capital Surplus  Cash Ratio  \\\n",
       "8          -8.165000e+09              0.0        93.0   \n",
       "9          -9.571000e+09              0.0        40.0   \n",
       "10         -1.124700e+10              0.0        52.0   \n",
       "11         -1.273400e+10              0.0        85.0   \n",
       "\n",
       "                ...               Total Current Assets  \\\n",
       "8               ...                       7.328600e+10   \n",
       "9               ...                       6.853100e+10   \n",
       "10              ...                       8.937800e+10   \n",
       "11              ...                       1.068690e+11   \n",
       "\n",
       "    Total Current Liabilities  Total Equity  Total Liabilities  \\\n",
       "8                4.365800e+10  1.235490e+11       8.345100e+10   \n",
       "9                6.344800e+10  1.115470e+11       1.202920e+11   \n",
       "10               8.061000e+10  1.193550e+11       1.709900e+11   \n",
       "11               7.900600e+10  1.282490e+11       1.934370e+11   \n",
       "\n",
       "    Total Liabilities & Equity  Total Revenue  Treasury Stock  For Year  \\\n",
       "8                 2.070000e+11   1.709100e+11             0.0    2013.0   \n",
       "9                 2.318390e+11   1.827950e+11             0.0    2014.0   \n",
       "10                2.903450e+11   2.337150e+11             0.0    2015.0   \n",
       "11                3.216860e+11   2.156390e+11             0.0    2016.0   \n",
       "\n",
       "    Earnings Per Share  Estimated Shares Outstanding  \n",
       "8                40.03                  9.252311e+08  \n",
       "9                 6.49                  6.087827e+09  \n",
       "10                9.28                  5.753664e+09  \n",
       "11                8.35                  5.471497e+09  \n",
       "\n",
       "[4 rows x 79 columns]"
      ]
     },
     "execution_count": 11,
     "metadata": {},
     "output_type": "execute_result"
    }
   ],
   "source": [
    "#fundamentals.head(5)\n",
    "stk = fundamentals[fundamentals['Ticker Symbol'] == symbol]\n",
    "stk"
   ]
  },
  {
   "cell_type": "code",
   "execution_count": 12,
   "metadata": {},
   "outputs": [
    {
     "data": {
      "text/plain": [
       "array(['WLTW', 'A', 'AAL', 'AAP', 'AAPL', 'ABC', 'ABT', 'ACN', 'ADBE',\n",
       "       'ADI', 'ADM', 'ADP', 'ADS', 'ADSK', 'AEE', 'AEP', 'AES', 'AET',\n",
       "       'AFL', 'AGN', 'AIG', 'AIZ', 'AJG', 'AKAM', 'ALB', 'ALK', 'ALL',\n",
       "       'ALXN', 'AMAT', 'AME', 'AMG', 'AMGN', 'AMP', 'AMT', 'AMZN', 'AN',\n",
       "       'ANTM', 'AON', 'APA', 'APC', 'APD', 'APH', 'ARNC', 'ATVI', 'AVB',\n",
       "       'AVGO', 'AVY', 'AWK', 'AXP', 'AYI', 'AZO', 'BA', 'BAC', 'BAX',\n",
       "       'BBBY', 'BBT', 'BBY', 'BCR', 'BDX', 'BEN', 'BHI', 'BIIB', 'BK',\n",
       "       'BLK', 'BLL', 'BMY', 'BSX', 'BWA', 'BXP', 'C', 'CA', 'CAG', 'CAH',\n",
       "       'CAT', 'CB', 'CBG', 'CBS', 'CCI', 'CCL', 'CELG', 'CERN', 'CF',\n",
       "       'CHD', 'CHK', 'CHRW', 'CI', 'CINF', 'CL', 'CLX', 'CMA', 'CMCSA',\n",
       "       'CME', 'CMG', 'CMI', 'CMS', 'CNC', 'CNP', 'COF', 'COG', 'COH',\n",
       "       'COL', 'COO', 'COP', 'COST', 'CPB', 'CRM', 'CSCO', 'CSX', 'CTAS',\n",
       "       'CTL', 'CTSH', 'CTXS', 'CVS', 'CVX', 'CXO', 'D', 'DAL', 'DD', 'DE',\n",
       "       'DFS', 'DG', 'DGX', 'DHI', 'DHR', 'DIS', 'DISCA', 'DISCK', 'DLR',\n",
       "       'DLTR', 'DNB', 'DOV', 'DOW', 'DPS', 'DRI', 'DTE', 'DUK', 'DVA',\n",
       "       'DVN', 'EA', 'EBAY', 'ECL', 'ED', 'EFX', 'EIX', 'EL', 'EMN', 'EMR',\n",
       "       'ENDP', 'EOG', 'EQIX', 'EQR', 'EQT', 'ES', 'ESRX', 'ESS', 'ETFC',\n",
       "       'ETN', 'ETR', 'EW', 'EXC', 'EXPD', 'EXPE', 'EXR', 'F', 'FAST',\n",
       "       'FCX', 'FDX', 'FE', 'FFIV', 'FIS', 'FISV', 'FITB', 'FL', 'FLIR',\n",
       "       'FLR', 'FLS', 'FMC', 'FOX', 'FOXA', 'FRT', 'FSLR', 'FTI', 'FTR',\n",
       "       'GD', 'GE', 'GGP', 'GILD', 'GIS', 'GLW', 'GOOG', 'GOOGL', 'GPC',\n",
       "       'GPN', 'GPS', 'GRMN', 'GS', 'GT', 'GWW', 'HAL', 'HAR', 'HAS',\n",
       "       'HBAN', 'HBI', 'HCN', 'HCP', 'HD', 'HES', 'HIG', 'HOG', 'HOLX',\n",
       "       'HON', 'HP', 'HPQ', 'HRB', 'HRL', 'HRS', 'HSIC', 'HST', 'HSY',\n",
       "       'HUM', 'IBM', 'ICE', 'IDXX', 'IFF', 'ILMN', 'INTC', 'INTU', 'IP',\n",
       "       'IPG', 'IR', 'IRM', 'ISRG', 'ITW', 'IVZ', 'JBHT', 'JCI', 'JEC',\n",
       "       'JNJ', 'JNPR', 'JPM', 'JWN', 'K', 'KEY', 'KIM', 'KLAC', 'KMB',\n",
       "       'KMX', 'KO', 'KR', 'KSS', 'KSU', 'L', 'LB', 'LEG', 'LEN', 'LH',\n",
       "       'LKQ', 'LLL', 'LLTC', 'LLY', 'LMT', 'LNC', 'LNT', 'LOW', 'LRCX',\n",
       "       'LUK', 'LUV', 'LVLT', 'M', 'MA', 'MAA', 'MAC', 'MAR', 'MAS', 'MAT',\n",
       "       'MCD', 'MCHP', 'MCK', 'MCO', 'MDLZ', 'MDT', 'MET', 'MHK', 'MJN',\n",
       "       'MKC', 'MLM', 'MMC', 'MMM', 'MNST', 'MO', 'MON', 'MOS', 'MRK',\n",
       "       'MRO', 'MSFT', 'MSI', 'MTB', 'MTD', 'MU', 'MUR', 'MYL', 'NBL',\n",
       "       'NDAQ', 'NEE', 'NEM', 'NFLX', 'NFX', 'NI', 'NKE', 'NOC', 'NOV',\n",
       "       'NRG', 'NSC', 'NTAP', 'NTRS', 'NUE', 'NVDA', 'NWL', 'O', 'OKE',\n",
       "       'OMC', 'ORCL', 'ORLY', 'OXY', 'PAYX', 'PBCT', 'PBI', 'PCAR', 'PCG',\n",
       "       'PCLN', 'PDCO', 'PEG', 'PEP', 'PFE', 'PFG', 'PG', 'PGR', 'PH',\n",
       "       'PHM', 'PKI', 'PLD', 'PM', 'PNC', 'PNR', 'PNW', 'PPG', 'PPL',\n",
       "       'PRGO', 'PRU', 'PSA', 'PVH', 'PWR', 'PX', 'PXD', 'QCOM', 'R', 'RAI',\n",
       "       'RCL', 'REGN', 'RF', 'RHI', 'RHT', 'RIG', 'RL', 'ROK', 'ROP',\n",
       "       'ROST', 'RRC', 'RSG', 'RTN', 'SBUX', 'SCG', 'SCHW', 'SE', 'SEE',\n",
       "       'SHW', 'SIG', 'SJM', 'SLB', 'SLG', 'SNA', 'SNI', 'SO', 'SPG',\n",
       "       'SPGI', 'SPLS', 'SRCL', 'SRE', 'STI', 'STT', 'STX', 'STZ', 'SWK',\n",
       "       'SWKS', 'SWN', 'SYK', 'SYMC', 'SYY', 'T', 'TAP', 'TDC', 'TEL',\n",
       "       'TGNA', 'TGT', 'TIF', 'TJX', 'TMK', 'TMO', 'TROW', 'TRV', 'TSCO',\n",
       "       'TSN', 'TSO', 'TSS', 'TWX', 'TXN', 'TXT', 'UAA', 'UAL', 'UDR',\n",
       "       'UHS', 'ULTA', 'UNH', 'UNM', 'UNP', 'UPS', 'URBN', 'URI', 'USB',\n",
       "       'UTX', 'V', 'VAR', 'VFC', 'VIAB', 'VLO', 'VMC', 'VNO', 'VRSK',\n",
       "       'VRSN', 'VRTX', 'VTR', 'VZ', 'WAT', 'WBA', 'WDC', 'WEC', 'WFC',\n",
       "       'WFM', 'WHR', 'WM', 'WMB', 'WMT', 'WU', 'WY', 'WYN', 'WYNN', 'XEC',\n",
       "       'XEL', 'XL', 'XLNX', 'XOM', 'XRAY', 'XRX', 'YHOO', 'YUM', 'ZBH',\n",
       "       'ZION', 'AIV', 'CHTR', 'LYB', 'GM', 'ABBV', 'DLPH', 'FB', 'FBHS',\n",
       "       'HCA', 'KMI', 'KORS', 'MPC', 'NLSN', 'PSX', 'TDG', 'TRIP', 'XYL',\n",
       "       'ZTS', 'COTY', 'MNK', 'NWS', 'NWSA', 'EVHC', 'ALLE', 'CFG', 'NAVI',\n",
       "       'QRVO', 'SYF', 'WRK', 'KHC', 'PYPL', 'HPE', 'CSRA', 'FTV'], dtype=object)"
      ]
     },
     "execution_count": 12,
     "metadata": {},
     "output_type": "execute_result"
    }
   ],
   "source": [
    "stocks_df.symbol.unique()"
   ]
  }
 ],
 "metadata": {
  "kernelspec": {
   "display_name": "Python 3",
   "language": "python",
   "name": "python3"
  },
  "language_info": {
   "codemirror_mode": {
    "name": "ipython",
    "version": 3
   },
   "file_extension": ".py",
   "mimetype": "text/x-python",
   "name": "python",
   "nbconvert_exporter": "python",
   "pygments_lexer": "ipython3",
   "version": "3.6.3"
  }
 },
 "nbformat": 4,
 "nbformat_minor": 2
}
